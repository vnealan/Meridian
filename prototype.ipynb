{
 "cells": [
  {
   "cell_type": "markdown",
   "metadata": {},
   "source": [
    "# Get Sahha data from the web and store it in a database"
   ]
  },
  {
   "cell_type": "code",
   "execution_count": 1,
   "metadata": {},
   "outputs": [
    {
     "name": "stdout",
     "output_type": "stream",
     "text": [
      "[]\n"
     ]
    }
   ],
   "source": [
    "import http.client\n",
    "import json\n",
    "from urllib.parse import urlparse\n",
    "\n",
    "# Parse the URL to get host and path\n",
    "url = \"https://sandbox-api.sahha.ai/api/v1/profile/score/123456-14f9-47ef-b6f8-80a18b206a8e\"\n",
    "parsed_url = urlparse(url)\n",
    "\n",
    "# Create query parameters\n",
    "params = {\n",
    "    \"startDateTime\": \"2024-11-28T00:00:00.000Z\",\n",
    "    \"endDateTime\": \"2024-12-04T11:04:21.089Z\",\n",
    "    \"types\": [\"activity\", \"sleep\", \"wellbeing\", \"mental_wellbeing\", \"readiness\"]\n",
    "}\n",
    "\n",
    "# Build the query string\n",
    "query_string = \"&\".join([\n",
    "    f\"startDateTime={params['startDateTime']}\",\n",
    "    f\"endDateTime={params['endDateTime']}\"\n",
    "] + [f\"types={type_}\" for type_ in params['types']])\n",
    "\n",
    "# Create connection using just the hostname\n",
    "conn = http.client.HTTPSConnection(parsed_url.netloc)\n",
    "\n",
    "headers = {\n",
    "    'Authorization': 'account eyJhbGciOiJIUzI1NiIsInR5cCI6IkpXVCJ9.eyJodHRwczovL2FwaS5zYWhoYS5haS9jbGFpbXMvYWNjb3VudElkIjoiZGZiZTE3NzAtYTY5Zi00ZWUxLTlkMzQtYzEzZWQzZDBkYmUxIiwiaHR0cHM6Ly9hcGkuc2FoaGEuYWkvY2xhaW1zL2FkbWluIjoiVHJ1ZSIsImh0dHBzOi8vYXBpLnNhaGhhLmFpL2NsYWltcy9hY2NvdW50IjoiVHJ1ZSIsImh0dHBzOi8vYXBpLnNhaGhhLmFpL2NsYWltcy9zYWhoYUFwaVNjb3BlIjoiU2FuZGJveCIsImh0dHBzOi8vYXBpLnNhaGhhLmFpL2NsYWltcy9yZWdpb24iOiJVUyIsImV4cCI6MTczNTM4MzkwNCwiaXNzIjoiaHR0cHM6Ly9zYWhoYS1wcm9kdWN0aW9uLmF1LmF1dGgwLmNvbS8iLCJhdWQiOiJodHRwczovL3NhaGhhLXByb2R1Y3Rpb24uYXUuYXV0aDAuY29tL2FwaS92Mi8ifQ.Q4k_0cJIsuXqoPpUv784uADcoytQkECYkKptwCdN55g',\n",
    "    'Accept': 'application/json'\n",
    "}\n",
    "\n",
    "try:\n",
    "    # Make the request with the full path including query string\n",
    "    full_path = f\"{parsed_url.path}?{query_string}\"\n",
    "    conn.request(\"GET\", full_path, headers=headers)\n",
    "    \n",
    "    response = conn.getresponse()\n",
    "    if response.status == 200:\n",
    "        response_data = response.read().decode(\"utf-8\")\n",
    "        data = json.loads(response_data)\n",
    "        print(data)\n",
    "    else:\n",
    "        print(f\"Failed to retrieve data. Status code: {response.status}\")\n",
    "        print(f\"Response: {response.read().decode('utf-8')}\")\n",
    "finally:\n",
    "    conn.close()"
   ]
  },
  {
   "cell_type": "code",
   "execution_count": 2,
   "metadata": {},
   "outputs": [
    {
     "name": "stdout",
     "output_type": "stream",
     "text": [
      "[]\n"
     ]
    }
   ],
   "source": [
    "\n",
    "import http.client\n",
    "import json\n",
    "from urllib.parse import urlparse\n",
    "\n",
    "# Parse the URL to get host and path\n",
    "url = \"https://sandbox-api.sahha.ai/api/v1/profile/biomarker/085F84C3-C568-4067-84EC-97977FA89AEF\"\n",
    "parsed_url = urlparse(url)\n",
    "\n",
    "# Create query parameters\n",
    "params = {\n",
    "    \"startDateTime\": \"2018-10-28T13:00:00.000Z\",\n",
    "    \"endDateTime\": \"2025-04-08T14:00:00.000Z\",\n",
    "    \"types\": [\n",
    "        \"steps\", \"floors_climbed\", \"active_hours\", \"active_duration\",\n",
    "        \"activity_low_intensity_duration\", \"activity_mid_intensity_duration\",\n",
    "        \"activity_high_intensity_duration\", \"activity_sedentary_duration\",\n",
    "        \"active_energy_burned\", \"total_energy_burned\", \"height\", \"weight\",\n",
    "        \"body_mass_index\", \"body_fat\", \"fat_mass\", \"lean_mass\",\n",
    "        \"waist_circumference\", \"resting_energy_burned\", \"age\", \"biological_sex\",\n",
    "        \"date_of_birth\", \"menstrual_cycle_length\", \"menstrual_cycle_start_date\",\n",
    "        \"menstrual_cycle_end_date\", \"menstrual_phase\", \"menstrual_phase_start_date\",\n",
    "        \"menstrual_phase_end_date\", \"menstrual_phase_length\", \"sleep_start_time\",\n",
    "        \"sleep_end_time\", \"sleep_duration\", \"sleep_debt\", \"sleep_interruptions\",\n",
    "        \"sleep_in_bed_duration\", \"sleep_awake_duration\", \"sleep_light_duration\",\n",
    "        \"sleep_rem_duration\", \"sleep_deep_duration\", \"sleep_regularity\",\n",
    "        \"sleep_latency\", \"sleep_efficiency\", \"heart_rate_resting\",\n",
    "        \"heart_rate_sleep\", \"heart_rate_variability_sdnn\",\n",
    "        \"heart_rate_variability_rmssd\", \"respiratory_rate\",\n",
    "        \"respiratory_rate_sleep\", \"oxygen_saturation\",\n",
    "        \"oxygen_saturation_sleep\", \"vo2_max\", \"blood_glucose\",\n",
    "        \"blood_pressure_systolic\", \"blood_pressure_diastolic\",\n",
    "        \"body_temperature_basal\", \"skin_temperature_sleep\"\n",
    "    ],\n",
    "    \"categories\": [\n",
    "        \"activity\", \"body\", \"characteristic\", \"reproductive\", \"sleep\", \"vitals\"\n",
    "    ]\n",
    "}\n",
    "\n",
    "# Build the query string\n",
    "query_parts = [\n",
    "    f\"startDateTime={params['startDateTime']}\",\n",
    "    f\"endDateTime={params['endDateTime']}\"\n",
    "]\n",
    "query_parts.extend(f\"types={type_}\" for type_ in params['types'])\n",
    "query_parts.extend(f\"categories={category}\" for category in params['categories'])\n",
    "query_string = \"&\".join(query_parts)\n",
    "\n",
    "# Create connection using just the hostname\n",
    "conn = http.client.HTTPSConnection(parsed_url.netloc)\n",
    "\n",
    "headers = {\n",
    "    'Authorization': 'account eyJhbGciOiJIUzI1NiIsInR5cCI6IkpXVCJ9.eyJodHRwczovL2FwaS5zYWhoYS5haS9jbGFpbXMvYWNjb3VudElkIjoiZGZiZTE3NzAtYTY5Zi00ZWUxLTlkMzQtYzEzZWQzZDBkYmUxIiwiaHR0cHM6Ly9hcGkuc2FoaGEuYWkvY2xhaW1zL2FkbWluIjoiVHJ1ZSIsImh0dHBzOi8vYXBpLnNhaGhhLmFpL2NsYWltcy9hY2NvdW50IjoiVHJ1ZSIsImh0dHBzOi8vYXBpLnNhaGhhLmFpL2NsYWltcy9zYWhoYUFwaVNjb3BlIjoiU2FuZGJveCIsImh0dHBzOi8vYXBpLnNhaGhhLmFpL2NsYWltcy9yZWdpb24iOiJVUyIsImV4cCI6MTczNTM4NTM5NywiaXNzIjoiaHR0cHM6Ly9zYWhoYS1wcm9kdWN0aW9uLmF1LmF1dGgwLmNvbS8iLCJhdWQiOiJodHRwczovL3NhaGhhLXByb2R1Y3Rpb24uYXUuYXV0aDAuY29tL2FwaS92Mi8ifQ.u-CU4n_5J_Zyvy48Sq1sxsJKnpgXmObc2pQkQETwbXQ',\n",
    "    'Accept': 'application/json'\n",
    "}\n",
    "\n",
    "try:\n",
    "    # Make the request with the full path including query string\n",
    "    full_path = f\"{parsed_url.path}?{query_string}\"\n",
    "    conn.request(\"GET\", full_path, headers=headers)\n",
    "    \n",
    "    response = conn.getresponse()\n",
    "    if response.status == 200:\n",
    "        response_data = response.read().decode(\"utf-8\")\n",
    "        biometric_data = json.loads(response_data)\n",
    "        print(biometric_data)\n",
    "    else:\n",
    "        print(f\"Failed to retrieve data. Status code: {response.status}\")\n",
    "        print(f\"Response: {response.read().decode('utf-8')}\")\n",
    "finally:\n",
    "    conn.close()"
   ]
  },
  {
   "cell_type": "code",
   "execution_count": 3,
   "metadata": {},
   "outputs": [
    {
     "data": {
      "text/plain": [
       "[]"
      ]
     },
     "execution_count": 3,
     "metadata": {},
     "output_type": "execute_result"
    }
   ],
   "source": [
    "biometric_data"
   ]
  },
  {
   "cell_type": "code",
   "execution_count": 4,
   "metadata": {},
   "outputs": [],
   "source": [
    "from health_assessment import HealthAssessment\n",
    "\n",
    "json_file = '/Users/nealan/Documents/prototypes/health-hackathon/health_assessment.json'\n",
    "assessment = HealthAssessment(json_file)\n"
   ]
  },
  {
   "cell_type": "code",
   "execution_count": 5,
   "metadata": {},
   "outputs": [],
   "source": [
    "summary = assessment.generate_summary()"
   ]
  },
  {
   "cell_type": "code",
   "execution_count": 6,
   "metadata": {},
   "outputs": [
    {
     "data": {
      "text/plain": [
       "{'body_composition': 'Body fat: 18.2%, Lean mass: 61.4kg',\n",
       " 'fitness_level': 'VO2 Max: 48.5 ml/kg/min',\n",
       " 'strength_profile': 'Squat: 120kg, Deadlift: 140kg',\n",
       " 'metabolic_health': 'HbA1c: 5.2%, Fasting glucose: 5.1 mmol/L',\n",
       " 'nutrition': 'Daily calories: 2450, Protein: 125g'}"
      ]
     },
     "execution_count": 6,
     "metadata": {},
     "output_type": "execute_result"
    }
   ],
   "source": [
    "summary"
   ]
  },
  {
   "cell_type": "code",
   "execution_count": 7,
   "metadata": {},
   "outputs": [],
   "source": [
    "from medication_parser import MedicationRegimen\n",
    "\n",
    "json_file = '/Users/nealan/Documents/prototypes/health-hackathon/medication.json'\n",
    "medication = MedicationRegimen(json_file)"
   ]
  },
  {
   "cell_type": "code",
   "execution_count": 8,
   "metadata": {},
   "outputs": [],
   "source": [
    "# Use the medication as a base line to identify when to send reminders"
   ]
  },
  {
   "cell_type": "code",
   "execution_count": 9,
   "metadata": {},
   "outputs": [],
   "source": [
    "todays_medication = medication.get_daily_summary_string()"
   ]
  },
  {
   "cell_type": "code",
   "execution_count": 10,
   "metadata": {},
   "outputs": [
    {
     "data": {
      "text/plain": [
       "'=== DAILY MEDICATION SUMMARY ===\\n\\nTotal medications to take today: 6\\n\\n--- SCHEDULE ---\\n\\nMORNING - 08:00\\n  • Duloxetine - 60mg\\n    Instructions: Take with food\\n  • Vitamin D3 - 4000IU\\n    Instructions: Take with fatty meal\\n  • Vitamin B12 - 1000mcg\\n    Instructions: Take on empty stomach\\n  • Iron Bisglycinate - 25mg\\n    Instructions: Take on empty stomach, 2 hours away from calcium\\n\\nEVENING - 18:00\\n  • Magnesium Glycinate - 400mg\\n    Instructions: Take with dinner\\n\\nBEDTIME - 21:00\\n  • Amitriptyline - 10mg\\n    Instructions: Take 2 hours before bedtime\\n\\n--- AS NEEDED MEDICATIONS ---\\n  • Ibuprofen - 400mg\\n    Max frequency: 3 times daily\\n    Purpose: pain relief\\n\\n--- IMPORTANT NOTES ---\\n  • Pemoline: Must be taken on empty stomach\\n  • Duloxetine: Must be taken with food\\n  • Abilify: Must be taken with food\\n\\n--- MEDICATION TOTALS ---\\n  • Prescription medications: 4\\n  • Supplements: 4\\n  • As-needed medications available: 1'"
      ]
     },
     "execution_count": 10,
     "metadata": {},
     "output_type": "execute_result"
    }
   ],
   "source": [
    "medication.get_daily_summary_string()"
   ]
  },
  {
   "cell_type": "code",
   "execution_count": 11,
   "metadata": {},
   "outputs": [],
   "source": [
    "import transaction_parser"
   ]
  },
  {
   "cell_type": "code",
   "execution_count": 12,
   "metadata": {},
   "outputs": [],
   "source": [
    "import os\n",
    "from openai_client import OpenAIClient\n",
    "\n",
    "# Initialize the client\n",
    "client = OpenAIClient(os.getenv('OPEN_AI_API_KEY'))\n",
    "    \n",
    "# Example 1: Simple prompt with system message\n",
    "interactions = client.generate_response(\n",
    "    system_prompt=\"You are a doctor tasked with identifying any side effects for each individual medication as well as the interaction of them together. \",\n",
    "    prompt=f\"\"\"Below is the medication that will be taken today {medication.get_daily_summary_string()}.\n",
    "        1. Start by first listing all medication\n",
    "        2. For each list the side effects. \n",
    "        3. Afterwards, list the interactions between each medication.\n",
    "        Please ensure that you do not make any mistakes.\"\"\",\n",
    "\n",
    ")"
   ]
  },
  {
   "cell_type": "code",
   "execution_count": 13,
   "metadata": {},
   "outputs": [
    {
     "data": {
      "text/plain": [
       "'=== DAILY MEDICATION SUMMARY ===\\n\\nTotal medications to take today: 6\\n\\n--- SCHEDULE ---\\n\\nMORNING - 08:00\\n  • Duloxetine - 60mg\\n    Instructions: Take with food\\n  • Vitamin D3 - 4000IU\\n    Instructions: Take with fatty meal\\n  • Vitamin B12 - 1000mcg\\n    Instructions: Take on empty stomach\\n  • Iron Bisglycinate - 25mg\\n    Instructions: Take on empty stomach, 2 hours away from calcium\\n\\nEVENING - 18:00\\n  • Magnesium Glycinate - 400mg\\n    Instructions: Take with dinner\\n\\nBEDTIME - 21:00\\n  • Amitriptyline - 10mg\\n    Instructions: Take 2 hours before bedtime\\n\\n--- AS NEEDED MEDICATIONS ---\\n  • Ibuprofen - 400mg\\n    Max frequency: 3 times daily\\n    Purpose: pain relief\\n\\n--- IMPORTANT NOTES ---\\n  • Pemoline: Must be taken on empty stomach\\n  • Duloxetine: Must be taken with food\\n  • Abilify: Must be taken with food\\n\\n--- MEDICATION TOTALS ---\\n  • Prescription medications: 4\\n  • Supplements: 4\\n  • As-needed medications available: 1'"
      ]
     },
     "execution_count": 13,
     "metadata": {},
     "output_type": "execute_result"
    }
   ],
   "source": [
    "medication.get_daily_summary_string()"
   ]
  },
  {
   "cell_type": "code",
   "execution_count": 14,
   "metadata": {},
   "outputs": [],
   "source": [
    "chat_messages = [\n",
    "    {\n",
    "        \"role\": \"user\", \n",
    "        \"content\": f\"\"\"I am a dietician working with a client who is aiming to get stronger.\n",
    "                  They have provided for you their medication for the day.\n",
    "                  If there is any potential interaction for the medication, please provide a note against the meal so that they can be aware of the risk. \"\n",
    "                  Provide a meal plan for today.\n",
    "                  \n",
    "                  Medication:\n",
    "                  {interactions}\n",
    "                  \n",
    "                  Format the meal plan to look like the following:\n",
    "\n",
    "\n",
    "                  MEAL_NAME (TIME):\n",
    "                  - MEAL ITEM 1\n",
    "                  - MEAL ITEM 2\n",
    "                  - MEAL ITEM 3\n",
    "\n",
    "                  - MEDICATION 1\n",
    "                  - MEDICATION 2\n",
    "                  \n",
    "                  \"\"\"\n",
    "    }\n",
    "]\n",
    "\n",
    "# Update the generate_chat_response method to use max_completion_tokens\n",
    "o1_client = OpenAIClient(os.getenv('OPEN_AI_API_KEY'))\n",
    "try:\n",
    "    meal_plan = o1_client.generate_chat_response(\n",
    "        chat_messages\n",
    "    )\n",
    "except Exception as e:\n",
    "    print(f\"Error generating response: {e}\")"
   ]
  },
  {
   "cell_type": "code",
   "execution_count": 15,
   "metadata": {},
   "outputs": [
    {
     "data": {
      "text/plain": [
       "'### Meal Plan for Strength Building\\n\\n**Breakfast (8:00 AM):**\\n- Scrambled eggs (2 eggs) with spinach and tomatoes\\n- Whole grain toast (1 slice) with avocado\\n- Greek yogurt (1 cup) with berries\\n\\n- **Vitamin D3** (4000 IU) - Take with breakfast for better absorption.\\n- **Iron Bisglycinate** (25 mg) - Best taken on an empty stomach, but can be taken with food if it causes stomach upset.\\n\\n---\\n\\n**Mid-Morning Snack (10:30 AM):**\\n- Handful of mixed nuts (almonds, walnuts, and cashews)\\n- Sliced apple\\n\\n- **Vitamin B12** (1000 mcg) - Can be taken with food or on an empty stomach.\\n\\n---\\n\\n**Lunch (12:30 PM):**\\n- Grilled chicken breast (4 oz) with quinoa (1 cup) and steamed broccoli\\n- Olive oil and lemon dressing\\n\\n- **Magnesium Glycinate** (400 mg) - Take with lunch.\\n- **Duloxetine** (60 mg) - Take with food to minimize nausea.\\n\\n---\\n\\n**Afternoon Snack (3:00 PM):**\\n- Hummus (1/4 cup) with carrot and cucumber sticks\\n- Cottage cheese (1/2 cup)\\n\\n- **Amitriptyline** (10 mg) - Take with a snack to avoid any stomach upset.\\n\\n---\\n\\n**Dinner (6:30 PM):**\\n- Baked salmon (4 oz) with sweet potato (1 medium) and asparagus\\n- Side salad with mixed greens, cherry tomatoes, and vinaigrette\\n\\n- **Ibuprofen** (400 mg) - If needed for pain relief, take after dinner to minimize stomach upset. Monitor for gastrointestinal bleeding risk.\\n\\n---\\n\\n**Evening Snack (8:30 PM):**\\n- Oatmeal (1/2 cup dry) made with water or almond milk, topped with banana and a sprinkle of cinnamon\\n\\n- **Magnesium Glycinate** (if not taken earlier) - Can be taken in the evening, but not to be taken at the same time as Iron Bisglycinate.\\n\\n### Important Notes:\\n- **Iron Bisglycinate** and **Magnesium Glycinate** should be spaced apart by at least 2 hours to enhance absorption.\\n- Monitor for any symptoms of gastrointestinal discomfort, particularly when combining Duloxetine and Ibuprofen.\\n- Ensure hydration throughout the day to support overall health and muscle function. \\n\\nPlease consult with a healthcare provider if any unusual symptoms occur or if there are concerns regarding medications.'"
      ]
     },
     "execution_count": 15,
     "metadata": {},
     "output_type": "execute_result"
    }
   ],
   "source": [
    "meal_plan"
   ]
  },
  {
   "cell_type": "code",
   "execution_count": 16,
   "metadata": {},
   "outputs": [],
   "source": [
    "import json\n",
    "from health_recommendation import main as hrm\n",
    "\n",
    "well_being_score = 0.8\n",
    "\n",
    "\n",
    "with open('sahha_scores.json', 'r') as file:\n",
    "    sahha_scores = json.load(file)\n",
    "\n",
    "recommendations = hrm(sahha_scores, well_being_score)"
   ]
  },
  {
   "cell_type": "code",
   "execution_count": 18,
   "metadata": {},
   "outputs": [],
   "source": [
    "# Update the given meal plan to use the sahha score\n",
    "\n",
    "refine_meal_plan_prompt = f\"\"\"\n",
    "    Update the meal plan to ensure that it is in line with the client's current state and historic state.\n",
    "    Provide your reasoning as to why you've made those changes as well.\n",
    "\n",
    "    Historic state:\n",
    "        {recommendations}\n",
    "\n",
    "    Meal Plan:\n",
    "        {meal_plan}\n",
    "\n",
    "    Return ONLY The updated meal plan and reasoning for the changes.\n",
    "    \"\"\"\n",
    "updated_meal_plan = client.generate_response(\n",
    "    system_prompt=\"You are a dietician who has been given a meal plan and a client's current state.\",\n",
    "    prompt=refine_meal_plan_prompt,\n",
    "\n",
    ")\n"
   ]
  },
  {
   "cell_type": "code",
   "execution_count": 19,
   "metadata": {},
   "outputs": [
    {
     "data": {
      "text/plain": [
       "\"### Updated Meal Plan for Strength Building\\n\\n**Breakfast (8:00 AM):**\\n- Scrambled eggs (2 eggs) with spinach and tomatoes\\n- Whole grain toast (1 slice) with avocado\\n- Greek yogurt (1 cup) with berries\\n- **Vitamin D3** (4000 IU) - Take with breakfast for better absorption.\\n- **Iron Bisglycinate** (25 mg) - Best taken on an empty stomach, but can be taken with food if it causes stomach upset.\\n\\n---\\n\\n**Mid-Morning Snack (10:30 AM):**\\n- Handful of mixed nuts (almonds, walnuts, and cashews)\\n- Sliced apple\\n- **Vitamin B12** (1000 mcg) - Can be taken with food or on an empty stomach.\\n\\n---\\n\\n**Lunch (12:30 PM):**\\n- Grilled chicken breast (4 oz) with quinoa (1 cup) and steamed broccoli\\n- Olive oil and lemon dressing\\n- **Magnesium Glycinate** (400 mg) - Take with lunch.\\n- **Duloxetine** (60 mg) - Take with food to minimize nausea.\\n\\n---\\n\\n**Afternoon Snack (3:00 PM):**\\n- Hummus (1/4 cup) with carrot and cucumber sticks\\n- Cottage cheese (1/2 cup)\\n- **Amitriptyline** (10 mg) - Take with a snack to avoid any stomach upset.\\n\\n---\\n\\n**Dinner (6:30 PM):**\\n- Baked salmon (4 oz) with sweet potato (1 medium) and asparagus\\n- Side salad with mixed greens, cherry tomatoes, and vinaigrette\\n- **Ibuprofen** (400 mg) - If needed for pain relief, take after dinner to minimize stomach upset. Monitor for gastrointestinal bleeding risk.\\n\\n---\\n\\n**Evening Snack (8:30 PM):**\\n- Oatmeal (1/2 cup dry) made with water or almond milk, topped with banana and a sprinkle of cinnamon\\n- **Magnesium Glycinate** (if not taken earlier) - Can be taken in the evening, but not to be taken at the same time as Iron Bisglycinate.\\n\\n### Important Notes:\\n- **Iron Bisglycinate** and **Magnesium Glycinate** should be spaced apart by at least 2 hours to enhance absorption.\\n- Monitor for any symptoms of gastrointestinal discomfort, particularly when combining Duloxetine and Ibuprofen.\\n- Ensure hydration throughout the day to support overall health and muscle function. \\n\\n### Reasoning for Changes:\\nThe original meal plan appears well-structured to support strength building and maintain nutritional balance. However, given the client's stable wellbeing score and ability to handle increased responsibility, it is important to ensure that the meal plan remains supportive of their overall health and energy levels, especially if they consider taking on additional challenging projects or learning new skills.\\n\\n1. **Focus on Nutrient-Dense Foods**: The inclusion of whole grains, lean proteins, healthy fats, and a variety of fruits and vegetables in every meal and snack helps maintain energy levels and supports recovery, which is essential for someone who may be taking on more workload.\\n\\n2. **Supplement Timing**: The timing of supplements remains unchanged as they are appropriately placed for optimal absorption and minimal stomach upset. This is crucial for someone whose workload capacity is high, ensuring they remain energized and healthy.\\n\\n3. **Hydration**: Emphasizing hydration in the important notes acknowledges the need to support overall health, particularly during times of increased responsibility.\\n\\nOverall, the meal plan remains balanced while reinforcing a supportive and positive approach to the client's dietary needs, ensuring they have the necessary nutrients to thrive in their current state and future challenges.\""
      ]
     },
     "execution_count": 19,
     "metadata": {},
     "output_type": "execute_result"
    }
   ],
   "source": [
    "updated_meal_plan"
   ]
  },
  {
   "cell_type": "code",
   "execution_count": 20,
   "metadata": {},
   "outputs": [],
   "source": [
    "# how to measure objectively \n",
    "# Currently done through nuturing tough love survey \n",
    "# Patients will check in every fortnight, with satisfaction score (done in the app)\n",
    "# 1 out of 5 is someone needs nuturing\n",
    "\n",
    "\n",
    "# How do we determine the patient scores \n",
    "# Does the patient have a say in tones\n",
    "\n",
    "\n",
    "# Juni = middle age woman\n",
    "# "
   ]
  },
  {
   "cell_type": "code",
   "execution_count": null,
   "metadata": {},
   "outputs": [],
   "source": []
  },
  {
   "cell_type": "code",
   "execution_count": null,
   "metadata": {},
   "outputs": [],
   "source": []
  }
 ],
 "metadata": {
  "kernelspec": {
   "display_name": "tinytroupe",
   "language": "python",
   "name": "python3"
  },
  "language_info": {
   "codemirror_mode": {
    "name": "ipython",
    "version": 3
   },
   "file_extension": ".py",
   "mimetype": "text/x-python",
   "name": "python",
   "nbconvert_exporter": "python",
   "pygments_lexer": "ipython3",
   "version": "3.10.15"
  }
 },
 "nbformat": 4,
 "nbformat_minor": 2
}
